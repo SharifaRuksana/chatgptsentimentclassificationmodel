{
 "cells": [
  {
   "cell_type": "code",
   "execution_count": 1,
   "id": "1aa14f2e",
   "metadata": {},
   "outputs": [],
   "source": [
    "import pandas as pd\n",
    "import numpy as np\n",
    "import re\n",
    "import string\n",
    "import nltk\n",
    "from nltk.corpus import stopwords\n",
    "from nltk.tokenize import word_tokenize\n",
    "from nltk.stem import WordNetLemmatizer\n",
    "import tensorflow as tf\n",
    "from tensorflow.keras.models import Sequential\n",
    "from tensorflow.keras.layers import Dense\n",
    "from tensorflow.keras.layers import LSTM\n",
    "from tensorflow.keras.layers import Embedding\n",
    "import re"
   ]
  },
  {
   "cell_type": "code",
   "execution_count": 2,
   "id": "1fa14c21",
   "metadata": {},
   "outputs": [
    {
     "name": "stderr",
     "output_type": "stream",
     "text": [
      "[nltk_data] Downloading package punkt to\n",
      "[nltk_data]     C:\\Users\\shari\\AppData\\Roaming\\nltk_data...\n",
      "[nltk_data]   Package punkt is already up-to-date!\n",
      "[nltk_data] Downloading package stopwords to\n",
      "[nltk_data]     C:\\Users\\shari\\AppData\\Roaming\\nltk_data...\n",
      "[nltk_data]   Package stopwords is already up-to-date!\n",
      "[nltk_data] Downloading package wordnet to\n",
      "[nltk_data]     C:\\Users\\shari\\AppData\\Roaming\\nltk_data...\n",
      "[nltk_data]   Package wordnet is already up-to-date!\n"
     ]
    },
    {
     "data": {
      "text/plain": [
       "True"
      ]
     },
     "execution_count": 2,
     "metadata": {},
     "output_type": "execute_result"
    }
   ],
   "source": [
    "nltk.download('punkt')\n",
    "nltk.download('stopwords')\n",
    "nltk.download('wordnet')"
   ]
  },
  {
   "cell_type": "code",
   "execution_count": 3,
   "id": "13250145",
   "metadata": {},
   "outputs": [
    {
     "data": {
      "text/html": [
       "<div>\n",
       "<style scoped>\n",
       "    .dataframe tbody tr th:only-of-type {\n",
       "        vertical-align: middle;\n",
       "    }\n",
       "\n",
       "    .dataframe tbody tr th {\n",
       "        vertical-align: top;\n",
       "    }\n",
       "\n",
       "    .dataframe thead th {\n",
       "        text-align: right;\n",
       "    }\n",
       "</style>\n",
       "<table border=\"1\" class=\"dataframe\">\n",
       "  <thead>\n",
       "    <tr style=\"text-align: right;\">\n",
       "      <th></th>\n",
       "      <th>Tweets</th>\n",
       "      <th>label</th>\n",
       "    </tr>\n",
       "  </thead>\n",
       "  <tbody>\n",
       "    <tr>\n",
       "      <th>0</th>\n",
       "      <td>Asked #ChatGPT about what it thinks are the pr...</td>\n",
       "      <td>Positive</td>\n",
       "    </tr>\n",
       "    <tr>\n",
       "      <th>1</th>\n",
       "      <td>#ChatGPT tornado has already traveled around t...</td>\n",
       "      <td>Neutral</td>\n",
       "    </tr>\n",
       "    <tr>\n",
       "      <th>2</th>\n",
       "      <td>This is a great explanation of why #EVs are mo...</td>\n",
       "      <td>Positive</td>\n",
       "    </tr>\n",
       "    <tr>\n",
       "      <th>3</th>\n",
       "      <td>‘if you need to write a box-ticking social med...</td>\n",
       "      <td>Positive</td>\n",
       "    </tr>\n",
       "    <tr>\n",
       "      <th>4</th>\n",
       "      <td>Just saw an AI tool making my coffee for me. \\...</td>\n",
       "      <td>Positive</td>\n",
       "    </tr>\n",
       "    <tr>\n",
       "      <th>...</th>\n",
       "      <td>...</td>\n",
       "      <td>...</td>\n",
       "    </tr>\n",
       "    <tr>\n",
       "      <th>765</th>\n",
       "      <td>NaN</td>\n",
       "      <td>NaN</td>\n",
       "    </tr>\n",
       "    <tr>\n",
       "      <th>766</th>\n",
       "      <td>NaN</td>\n",
       "      <td>NaN</td>\n",
       "    </tr>\n",
       "    <tr>\n",
       "      <th>767</th>\n",
       "      <td>NaN</td>\n",
       "      <td>NaN</td>\n",
       "    </tr>\n",
       "    <tr>\n",
       "      <th>768</th>\n",
       "      <td>NaN</td>\n",
       "      <td>NaN</td>\n",
       "    </tr>\n",
       "    <tr>\n",
       "      <th>769</th>\n",
       "      <td>NaN</td>\n",
       "      <td>NaN</td>\n",
       "    </tr>\n",
       "  </tbody>\n",
       "</table>\n",
       "<p>770 rows × 2 columns</p>\n",
       "</div>"
      ],
      "text/plain": [
       "                                                Tweets     label\n",
       "0    Asked #ChatGPT about what it thinks are the pr...  Positive\n",
       "1    #ChatGPT tornado has already traveled around t...   Neutral\n",
       "2    This is a great explanation of why #EVs are mo...  Positive\n",
       "3    ‘if you need to write a box-ticking social med...  Positive\n",
       "4    Just saw an AI tool making my coffee for me. \\...  Positive\n",
       "..                                                 ...       ...\n",
       "765                                                NaN       NaN\n",
       "766                                                NaN       NaN\n",
       "767                                                NaN       NaN\n",
       "768                                                NaN       NaN\n",
       "769                                                NaN       NaN\n",
       "\n",
       "[770 rows x 2 columns]"
      ]
     },
     "execution_count": 3,
     "metadata": {},
     "output_type": "execute_result"
    }
   ],
   "source": [
    "train = pd.read_csv('train.csv')\n",
    "train"
   ]
  },
  {
   "cell_type": "markdown",
   "id": "62a2172f",
   "metadata": {},
   "source": [
    "# Dataset preprocessing"
   ]
  },
  {
   "cell_type": "code",
   "execution_count": 4,
   "id": "53974f34",
   "metadata": {},
   "outputs": [
    {
     "data": {
      "text/plain": [
       "Tweets    171\n",
       "label     171\n",
       "dtype: int64"
      ]
     },
     "execution_count": 4,
     "metadata": {},
     "output_type": "execute_result"
    }
   ],
   "source": [
    "train.isnull().sum()"
   ]
  },
  {
   "cell_type": "code",
   "execution_count": 5,
   "id": "42d96bfe",
   "metadata": {},
   "outputs": [
    {
     "data": {
      "text/plain": [
       "Tweets    0\n",
       "label     0\n",
       "dtype: int64"
      ]
     },
     "execution_count": 5,
     "metadata": {},
     "output_type": "execute_result"
    }
   ],
   "source": [
    "train = train.dropna()\n",
    "train.isnull().sum()"
   ]
  },
  {
   "cell_type": "code",
   "execution_count": 6,
   "id": "0a59cff2",
   "metadata": {},
   "outputs": [],
   "source": [
    "train.duplicated().sum()\n",
    "train = train.drop_duplicates()"
   ]
  },
  {
   "cell_type": "code",
   "execution_count": 7,
   "id": "9e16bd54",
   "metadata": {},
   "outputs": [
    {
     "data": {
      "text/plain": [
       "599"
      ]
     },
     "execution_count": 7,
     "metadata": {},
     "output_type": "execute_result"
    }
   ],
   "source": [
    "len(train['Tweets'])"
   ]
  },
  {
   "cell_type": "code",
   "execution_count": 8,
   "id": "41e23295",
   "metadata": {},
   "outputs": [],
   "source": [
    "for i in range(0,599):\n",
    "    train['Tweets'][i]=train['Tweets'][i].lower()"
   ]
  },
  {
   "cell_type": "code",
   "execution_count": 9,
   "id": "04f3ab50",
   "metadata": {},
   "outputs": [
    {
     "data": {
      "text/html": [
       "<div>\n",
       "<style scoped>\n",
       "    .dataframe tbody tr th:only-of-type {\n",
       "        vertical-align: middle;\n",
       "    }\n",
       "\n",
       "    .dataframe tbody tr th {\n",
       "        vertical-align: top;\n",
       "    }\n",
       "\n",
       "    .dataframe thead th {\n",
       "        text-align: right;\n",
       "    }\n",
       "</style>\n",
       "<table border=\"1\" class=\"dataframe\">\n",
       "  <thead>\n",
       "    <tr style=\"text-align: right;\">\n",
       "      <th></th>\n",
       "      <th>Tweets</th>\n",
       "      <th>label</th>\n",
       "    </tr>\n",
       "  </thead>\n",
       "  <tbody>\n",
       "    <tr>\n",
       "      <th>0</th>\n",
       "      <td>asked #chatgpt about what it thinks are the pr...</td>\n",
       "      <td>Positive</td>\n",
       "    </tr>\n",
       "    <tr>\n",
       "      <th>1</th>\n",
       "      <td>#chatgpt tornado has already traveled around t...</td>\n",
       "      <td>Neutral</td>\n",
       "    </tr>\n",
       "    <tr>\n",
       "      <th>2</th>\n",
       "      <td>this is a great explanation of why #evs are mo...</td>\n",
       "      <td>Positive</td>\n",
       "    </tr>\n",
       "    <tr>\n",
       "      <th>3</th>\n",
       "      <td>‘if you need to write a box-ticking social med...</td>\n",
       "      <td>Positive</td>\n",
       "    </tr>\n",
       "    <tr>\n",
       "      <th>4</th>\n",
       "      <td>just saw an ai tool making my coffee for me. \\...</td>\n",
       "      <td>Positive</td>\n",
       "    </tr>\n",
       "    <tr>\n",
       "      <th>...</th>\n",
       "      <td>...</td>\n",
       "      <td>...</td>\n",
       "    </tr>\n",
       "    <tr>\n",
       "      <th>594</th>\n",
       "      <td>4. gpt’s ai capabilities are also more accessi...</td>\n",
       "      <td>Positive</td>\n",
       "    </tr>\n",
       "    <tr>\n",
       "      <th>595</th>\n",
       "      <td>3. keyboardx also provides a more secure envir...</td>\n",
       "      <td>Positive</td>\n",
       "    </tr>\n",
       "    <tr>\n",
       "      <th>596</th>\n",
       "      <td>2. keyboardx allows users to quickly and easil...</td>\n",
       "      <td>Positive</td>\n",
       "    </tr>\n",
       "    <tr>\n",
       "      <th>597</th>\n",
       "      <td>i asked chatgpt why the app i’m working on, ke...</td>\n",
       "      <td>Positive</td>\n",
       "    </tr>\n",
       "    <tr>\n",
       "      <th>598</th>\n",
       "      <td>there's been a lot of talk about ai engines an...</td>\n",
       "      <td>Positive</td>\n",
       "    </tr>\n",
       "  </tbody>\n",
       "</table>\n",
       "<p>599 rows × 2 columns</p>\n",
       "</div>"
      ],
      "text/plain": [
       "                                                Tweets     label\n",
       "0    asked #chatgpt about what it thinks are the pr...  Positive\n",
       "1    #chatgpt tornado has already traveled around t...   Neutral\n",
       "2    this is a great explanation of why #evs are mo...  Positive\n",
       "3    ‘if you need to write a box-ticking social med...  Positive\n",
       "4    just saw an ai tool making my coffee for me. \\...  Positive\n",
       "..                                                 ...       ...\n",
       "594  4. gpt’s ai capabilities are also more accessi...  Positive\n",
       "595  3. keyboardx also provides a more secure envir...  Positive\n",
       "596  2. keyboardx allows users to quickly and easil...  Positive\n",
       "597  i asked chatgpt why the app i’m working on, ke...  Positive\n",
       "598  there's been a lot of talk about ai engines an...  Positive\n",
       "\n",
       "[599 rows x 2 columns]"
      ]
     },
     "execution_count": 9,
     "metadata": {},
     "output_type": "execute_result"
    }
   ],
   "source": [
    "train"
   ]
  },
  {
   "cell_type": "code",
   "execution_count": 10,
   "id": "fbe7b8bd",
   "metadata": {},
   "outputs": [
    {
     "data": {
      "text/plain": [
       "'asked #chatgpt about what it thinks are the problems associated with urbanisation in india &amp; the solutions to be adopted to boost public transport use in our cities. interesting set of responses. \\n\\n#econtwitter #urbaneconomics @sselvan https://t.co/ytyd2ypxdh'"
      ]
     },
     "execution_count": 10,
     "metadata": {},
     "output_type": "execute_result"
    }
   ],
   "source": [
    "train['Tweets'][0]"
   ]
  },
  {
   "cell_type": "code",
   "execution_count": 11,
   "id": "22be7dde",
   "metadata": {},
   "outputs": [
    {
     "data": {
      "text/plain": [
       "'asked #chatgpt about what it thinks are the problems associated with urbanisation in india &amp; the solutions to be adopted to boost public transport use in our cities. interesting set of responses. \\n\\n#econtwitter #urbaneconomics @sselvan '"
      ]
     },
     "execution_count": 11,
     "metadata": {},
     "output_type": "execute_result"
    }
   ],
   "source": [
    "train['Tweets'][0]=re.sub(r\"http\\S+|www\\S+|https\\S+\", '',train['Tweets'][0] , flags=re.MULTILINE)\n",
    "train['Tweets'][0]"
   ]
  },
  {
   "cell_type": "code",
   "execution_count": 12,
   "id": "4901a635",
   "metadata": {},
   "outputs": [
    {
     "data": {
      "text/plain": [
       "'\"turnitin is the go-to #software to catch students #cheating. now it\\'s focused on a potential cat-and-mouse game with openai\\'s new #chatgpt #chatbot.\"\\n#twlz #ki @hav_hendrik\\n\\n…usinessinsider-com.cdn.ampproject.org/c/s/www.busine…'"
      ]
     },
     "execution_count": 12,
     "metadata": {},
     "output_type": "execute_result"
    }
   ],
   "source": [
    "train['Tweets'][150]"
   ]
  },
  {
   "cell_type": "code",
   "execution_count": 13,
   "id": "0f201fff",
   "metadata": {},
   "outputs": [],
   "source": [
    "for i in range(599):\n",
    "    train['Tweets'][i]=re.sub(r\"http\\S+|www\\S+|https\\S+\", '',train['Tweets'][i] , flags=re.MULTILINE)"
   ]
  },
  {
   "cell_type": "code",
   "execution_count": 14,
   "id": "f2916b61",
   "metadata": {},
   "outputs": [
    {
     "data": {
      "text/plain": [
       "'\"turnitin is the go-to #software to catch students #cheating. now it\\'s focused on a potential cat-and-mouse game with openai\\'s new #chatgpt #chatbot.\"\\n#twlz #ki @hav_hendrik\\n\\n…usinessinsider-com.cdn.ampproject.org/c/s/'"
      ]
     },
     "execution_count": 14,
     "metadata": {},
     "output_type": "execute_result"
    }
   ],
   "source": [
    "train['Tweets'][150]"
   ]
  },
  {
   "cell_type": "code",
   "execution_count": 15,
   "id": "1c290c38",
   "metadata": {},
   "outputs": [],
   "source": [
    "for i in range(599):\n",
    "    train['Tweets'][i] = re.sub(r'@[\\w]*', '', train['Tweets'][i])\n",
    "    train['Tweets'][i] = re.sub(r'\\W', ' ', train['Tweets'][i])\n",
    "    train['Tweets'][i] = re.sub(r'\\d', ' ', train['Tweets'][i])"
   ]
  },
  {
   "cell_type": "code",
   "execution_count": 16,
   "id": "78441e81",
   "metadata": {},
   "outputs": [
    {
     "data": {
      "text/plain": [
       "' turnitin is the go to  software to catch students  cheating  now it s focused on a potential cat and mouse game with openai s new  chatgpt  chatbot    twlz  ki    usinessinsider com cdn ampproject org c s '"
      ]
     },
     "execution_count": 16,
     "metadata": {},
     "output_type": "execute_result"
    }
   ],
   "source": [
    "train['Tweets'][150]"
   ]
  },
  {
   "cell_type": "code",
   "execution_count": 17,
   "id": "d47478d1",
   "metadata": {},
   "outputs": [],
   "source": [
    "for i in range(599):\n",
    "    train['Tweets'][i] = word_tokenize(train['Tweets'][i])"
   ]
  },
  {
   "cell_type": "code",
   "execution_count": 18,
   "id": "86f9ae42",
   "metadata": {
    "scrolled": true
   },
   "outputs": [
    {
     "data": {
      "text/plain": [
       "['turnitin',\n",
       " 'is',\n",
       " 'the',\n",
       " 'go',\n",
       " 'to',\n",
       " 'software',\n",
       " 'to',\n",
       " 'catch',\n",
       " 'students',\n",
       " 'cheating',\n",
       " 'now',\n",
       " 'it',\n",
       " 's',\n",
       " 'focused',\n",
       " 'on',\n",
       " 'a',\n",
       " 'potential',\n",
       " 'cat',\n",
       " 'and',\n",
       " 'mouse',\n",
       " 'game',\n",
       " 'with',\n",
       " 'openai',\n",
       " 's',\n",
       " 'new',\n",
       " 'chatgpt',\n",
       " 'chatbot',\n",
       " 'twlz',\n",
       " 'ki',\n",
       " 'usinessinsider',\n",
       " 'com',\n",
       " 'cdn',\n",
       " 'ampproject',\n",
       " 'org',\n",
       " 'c',\n",
       " 's']"
      ]
     },
     "execution_count": 18,
     "metadata": {},
     "output_type": "execute_result"
    }
   ],
   "source": [
    "train['Tweets'][150]"
   ]
  },
  {
   "cell_type": "code",
   "execution_count": 19,
   "id": "1a32be24",
   "metadata": {},
   "outputs": [
    {
     "data": {
      "text/html": [
       "<div>\n",
       "<style scoped>\n",
       "    .dataframe tbody tr th:only-of-type {\n",
       "        vertical-align: middle;\n",
       "    }\n",
       "\n",
       "    .dataframe tbody tr th {\n",
       "        vertical-align: top;\n",
       "    }\n",
       "\n",
       "    .dataframe thead th {\n",
       "        text-align: right;\n",
       "    }\n",
       "</style>\n",
       "<table border=\"1\" class=\"dataframe\">\n",
       "  <thead>\n",
       "    <tr style=\"text-align: right;\">\n",
       "      <th></th>\n",
       "      <th>Tweets</th>\n",
       "      <th>label</th>\n",
       "      <th>new</th>\n",
       "      <th>preprocessed_tweets</th>\n",
       "    </tr>\n",
       "  </thead>\n",
       "  <tbody>\n",
       "    <tr>\n",
       "      <th>0</th>\n",
       "      <td>[asked, chatgpt, about, what, it, thinks, are,...</td>\n",
       "      <td>Positive</td>\n",
       "      <td>None</td>\n",
       "      <td>None</td>\n",
       "    </tr>\n",
       "    <tr>\n",
       "      <th>1</th>\n",
       "      <td>[chatgpt, tornado, has, already, traveled, aro...</td>\n",
       "      <td>Neutral</td>\n",
       "      <td>None</td>\n",
       "      <td>None</td>\n",
       "    </tr>\n",
       "    <tr>\n",
       "      <th>2</th>\n",
       "      <td>[this, is, a, great, explanation, of, why, evs...</td>\n",
       "      <td>Positive</td>\n",
       "      <td>None</td>\n",
       "      <td>None</td>\n",
       "    </tr>\n",
       "    <tr>\n",
       "      <th>3</th>\n",
       "      <td>[if, you, need, to, write, a, box, ticking, so...</td>\n",
       "      <td>Positive</td>\n",
       "      <td>None</td>\n",
       "      <td>None</td>\n",
       "    </tr>\n",
       "    <tr>\n",
       "      <th>4</th>\n",
       "      <td>[just, saw, an, ai, tool, making, my, coffee, ...</td>\n",
       "      <td>Positive</td>\n",
       "      <td>None</td>\n",
       "      <td>None</td>\n",
       "    </tr>\n",
       "    <tr>\n",
       "      <th>...</th>\n",
       "      <td>...</td>\n",
       "      <td>...</td>\n",
       "      <td>...</td>\n",
       "      <td>...</td>\n",
       "    </tr>\n",
       "    <tr>\n",
       "      <th>594</th>\n",
       "      <td>[gpt, s, ai, capabilities, are, also, more, ac...</td>\n",
       "      <td>Positive</td>\n",
       "      <td>None</td>\n",
       "      <td>None</td>\n",
       "    </tr>\n",
       "    <tr>\n",
       "      <th>595</th>\n",
       "      <td>[keyboardx, also, provides, a, more, secure, e...</td>\n",
       "      <td>Positive</td>\n",
       "      <td>None</td>\n",
       "      <td>None</td>\n",
       "    </tr>\n",
       "    <tr>\n",
       "      <th>596</th>\n",
       "      <td>[keyboardx, allows, users, to, quickly, and, e...</td>\n",
       "      <td>Positive</td>\n",
       "      <td>None</td>\n",
       "      <td>None</td>\n",
       "    </tr>\n",
       "    <tr>\n",
       "      <th>597</th>\n",
       "      <td>[i, asked, chatgpt, why, the, app, i, m, worki...</td>\n",
       "      <td>Positive</td>\n",
       "      <td>None</td>\n",
       "      <td>None</td>\n",
       "    </tr>\n",
       "    <tr>\n",
       "      <th>598</th>\n",
       "      <td>[there, s, been, a, lot, of, talk, about, ai, ...</td>\n",
       "      <td>Positive</td>\n",
       "      <td>None</td>\n",
       "      <td>None</td>\n",
       "    </tr>\n",
       "  </tbody>\n",
       "</table>\n",
       "<p>599 rows × 4 columns</p>\n",
       "</div>"
      ],
      "text/plain": [
       "                                                Tweets     label   new  \\\n",
       "0    [asked, chatgpt, about, what, it, thinks, are,...  Positive  None   \n",
       "1    [chatgpt, tornado, has, already, traveled, aro...   Neutral  None   \n",
       "2    [this, is, a, great, explanation, of, why, evs...  Positive  None   \n",
       "3    [if, you, need, to, write, a, box, ticking, so...  Positive  None   \n",
       "4    [just, saw, an, ai, tool, making, my, coffee, ...  Positive  None   \n",
       "..                                                 ...       ...   ...   \n",
       "594  [gpt, s, ai, capabilities, are, also, more, ac...  Positive  None   \n",
       "595  [keyboardx, also, provides, a, more, secure, e...  Positive  None   \n",
       "596  [keyboardx, allows, users, to, quickly, and, e...  Positive  None   \n",
       "597  [i, asked, chatgpt, why, the, app, i, m, worki...  Positive  None   \n",
       "598  [there, s, been, a, lot, of, talk, about, ai, ...  Positive  None   \n",
       "\n",
       "    preprocessed_tweets  \n",
       "0                  None  \n",
       "1                  None  \n",
       "2                  None  \n",
       "3                  None  \n",
       "4                  None  \n",
       "..                  ...  \n",
       "594                None  \n",
       "595                None  \n",
       "596                None  \n",
       "597                None  \n",
       "598                None  \n",
       "\n",
       "[599 rows x 4 columns]"
      ]
     },
     "execution_count": 19,
     "metadata": {},
     "output_type": "execute_result"
    }
   ],
   "source": [
    "train['new']=None\n",
    "train['preprocessed_tweets']=None\n",
    "train"
   ]
  },
  {
   "cell_type": "code",
   "execution_count": 20,
   "id": "c02702a4",
   "metadata": {},
   "outputs": [],
   "source": [
    "stop_words = set(stopwords.words('english'))"
   ]
  },
  {
   "cell_type": "code",
   "execution_count": 21,
   "id": "d6306cfb",
   "metadata": {},
   "outputs": [],
   "source": [
    "lemmatizer = WordNetLemmatizer()"
   ]
  },
  {
   "cell_type": "code",
   "execution_count": 22,
   "id": "e6b9633e",
   "metadata": {},
   "outputs": [],
   "source": [
    "tokens=[]\n",
    "for i in range(599):\n",
    "    for token in train['Tweets'][i]:\n",
    "        if token not in stop_words:\n",
    "            tokens.append(token)\n",
    "    train['new'][i]=tokens\n",
    "    tokens=[]"
   ]
  },
  {
   "cell_type": "code",
   "execution_count": 23,
   "id": "9cd62079",
   "metadata": {},
   "outputs": [
    {
     "data": {
      "text/html": [
       "<div>\n",
       "<style scoped>\n",
       "    .dataframe tbody tr th:only-of-type {\n",
       "        vertical-align: middle;\n",
       "    }\n",
       "\n",
       "    .dataframe tbody tr th {\n",
       "        vertical-align: top;\n",
       "    }\n",
       "\n",
       "    .dataframe thead th {\n",
       "        text-align: right;\n",
       "    }\n",
       "</style>\n",
       "<table border=\"1\" class=\"dataframe\">\n",
       "  <thead>\n",
       "    <tr style=\"text-align: right;\">\n",
       "      <th></th>\n",
       "      <th>Tweets</th>\n",
       "      <th>label</th>\n",
       "      <th>new</th>\n",
       "      <th>preprocessed_tweets</th>\n",
       "    </tr>\n",
       "  </thead>\n",
       "  <tbody>\n",
       "    <tr>\n",
       "      <th>0</th>\n",
       "      <td>[asked, chatgpt, about, what, it, thinks, are,...</td>\n",
       "      <td>Positive</td>\n",
       "      <td>[asked, chatgpt, thinks, problems, associated,...</td>\n",
       "      <td>None</td>\n",
       "    </tr>\n",
       "    <tr>\n",
       "      <th>1</th>\n",
       "      <td>[chatgpt, tornado, has, already, traveled, aro...</td>\n",
       "      <td>Neutral</td>\n",
       "      <td>[chatgpt, tornado, already, traveled, around, ...</td>\n",
       "      <td>None</td>\n",
       "    </tr>\n",
       "    <tr>\n",
       "      <th>2</th>\n",
       "      <td>[this, is, a, great, explanation, of, why, evs...</td>\n",
       "      <td>Positive</td>\n",
       "      <td>[great, explanation, evs, efficient, energy, s...</td>\n",
       "      <td>None</td>\n",
       "    </tr>\n",
       "    <tr>\n",
       "      <th>3</th>\n",
       "      <td>[if, you, need, to, write, a, box, ticking, so...</td>\n",
       "      <td>Positive</td>\n",
       "      <td>[need, write, box, ticking, social, media, pos...</td>\n",
       "      <td>None</td>\n",
       "    </tr>\n",
       "    <tr>\n",
       "      <th>4</th>\n",
       "      <td>[just, saw, an, ai, tool, making, my, coffee, ...</td>\n",
       "      <td>Positive</td>\n",
       "      <td>[saw, ai, tool, making, coffee, chatgpt, ai, a...</td>\n",
       "      <td>None</td>\n",
       "    </tr>\n",
       "    <tr>\n",
       "      <th>...</th>\n",
       "      <td>...</td>\n",
       "      <td>...</td>\n",
       "      <td>...</td>\n",
       "      <td>...</td>\n",
       "    </tr>\n",
       "    <tr>\n",
       "      <th>594</th>\n",
       "      <td>[gpt, s, ai, capabilities, are, also, more, ac...</td>\n",
       "      <td>Positive</td>\n",
       "      <td>[gpt, ai, capabilities, also, accessible, keyb...</td>\n",
       "      <td>None</td>\n",
       "    </tr>\n",
       "    <tr>\n",
       "      <th>595</th>\n",
       "      <td>[keyboardx, also, provides, a, more, secure, e...</td>\n",
       "      <td>Positive</td>\n",
       "      <td>[keyboardx, also, provides, secure, environmen...</td>\n",
       "      <td>None</td>\n",
       "    </tr>\n",
       "    <tr>\n",
       "      <th>596</th>\n",
       "      <td>[keyboardx, allows, users, to, quickly, and, e...</td>\n",
       "      <td>Positive</td>\n",
       "      <td>[keyboardx, allows, users, quickly, easily, ac...</td>\n",
       "      <td>None</td>\n",
       "    </tr>\n",
       "    <tr>\n",
       "      <th>597</th>\n",
       "      <td>[i, asked, chatgpt, why, the, app, i, m, worki...</td>\n",
       "      <td>Positive</td>\n",
       "      <td>[asked, chatgpt, app, working, keyboardx, bett...</td>\n",
       "      <td>None</td>\n",
       "    </tr>\n",
       "    <tr>\n",
       "      <th>598</th>\n",
       "      <td>[there, s, been, a, lot, of, talk, about, ai, ...</td>\n",
       "      <td>Positive</td>\n",
       "      <td>[lot, talk, ai, engines, may, may, used, newsr...</td>\n",
       "      <td>None</td>\n",
       "    </tr>\n",
       "  </tbody>\n",
       "</table>\n",
       "<p>599 rows × 4 columns</p>\n",
       "</div>"
      ],
      "text/plain": [
       "                                                Tweets     label  \\\n",
       "0    [asked, chatgpt, about, what, it, thinks, are,...  Positive   \n",
       "1    [chatgpt, tornado, has, already, traveled, aro...   Neutral   \n",
       "2    [this, is, a, great, explanation, of, why, evs...  Positive   \n",
       "3    [if, you, need, to, write, a, box, ticking, so...  Positive   \n",
       "4    [just, saw, an, ai, tool, making, my, coffee, ...  Positive   \n",
       "..                                                 ...       ...   \n",
       "594  [gpt, s, ai, capabilities, are, also, more, ac...  Positive   \n",
       "595  [keyboardx, also, provides, a, more, secure, e...  Positive   \n",
       "596  [keyboardx, allows, users, to, quickly, and, e...  Positive   \n",
       "597  [i, asked, chatgpt, why, the, app, i, m, worki...  Positive   \n",
       "598  [there, s, been, a, lot, of, talk, about, ai, ...  Positive   \n",
       "\n",
       "                                                   new preprocessed_tweets  \n",
       "0    [asked, chatgpt, thinks, problems, associated,...                None  \n",
       "1    [chatgpt, tornado, already, traveled, around, ...                None  \n",
       "2    [great, explanation, evs, efficient, energy, s...                None  \n",
       "3    [need, write, box, ticking, social, media, pos...                None  \n",
       "4    [saw, ai, tool, making, coffee, chatgpt, ai, a...                None  \n",
       "..                                                 ...                 ...  \n",
       "594  [gpt, ai, capabilities, also, accessible, keyb...                None  \n",
       "595  [keyboardx, also, provides, secure, environmen...                None  \n",
       "596  [keyboardx, allows, users, quickly, easily, ac...                None  \n",
       "597  [asked, chatgpt, app, working, keyboardx, bett...                None  \n",
       "598  [lot, talk, ai, engines, may, may, used, newsr...                None  \n",
       "\n",
       "[599 rows x 4 columns]"
      ]
     },
     "execution_count": 23,
     "metadata": {},
     "output_type": "execute_result"
    }
   ],
   "source": [
    "train"
   ]
  },
  {
   "cell_type": "code",
   "execution_count": 24,
   "id": "01b9db9c",
   "metadata": {},
   "outputs": [],
   "source": [
    "for i in range(599):\n",
    "    tokens=[]\n",
    "    for token in train['new'][i]:\n",
    "        token = lemmatizer.lemmatize(token,'v')\n",
    "        tokens.append(token)\n",
    "    train['new'][i]=tokens"
   ]
  },
  {
   "cell_type": "code",
   "execution_count": 25,
   "id": "ac66b7b5",
   "metadata": {},
   "outputs": [
    {
     "data": {
      "text/html": [
       "<div>\n",
       "<style scoped>\n",
       "    .dataframe tbody tr th:only-of-type {\n",
       "        vertical-align: middle;\n",
       "    }\n",
       "\n",
       "    .dataframe tbody tr th {\n",
       "        vertical-align: top;\n",
       "    }\n",
       "\n",
       "    .dataframe thead th {\n",
       "        text-align: right;\n",
       "    }\n",
       "</style>\n",
       "<table border=\"1\" class=\"dataframe\">\n",
       "  <thead>\n",
       "    <tr style=\"text-align: right;\">\n",
       "      <th></th>\n",
       "      <th>Tweets</th>\n",
       "      <th>label</th>\n",
       "      <th>new</th>\n",
       "      <th>preprocessed_tweets</th>\n",
       "    </tr>\n",
       "  </thead>\n",
       "  <tbody>\n",
       "    <tr>\n",
       "      <th>0</th>\n",
       "      <td>[asked, chatgpt, about, what, it, thinks, are,...</td>\n",
       "      <td>Positive</td>\n",
       "      <td>[ask, chatgpt, think, problems, associate, urb...</td>\n",
       "      <td>None</td>\n",
       "    </tr>\n",
       "    <tr>\n",
       "      <th>1</th>\n",
       "      <td>[chatgpt, tornado, has, already, traveled, aro...</td>\n",
       "      <td>Neutral</td>\n",
       "      <td>[chatgpt, tornado, already, travel, around, wo...</td>\n",
       "      <td>None</td>\n",
       "    </tr>\n",
       "    <tr>\n",
       "      <th>2</th>\n",
       "      <td>[this, is, a, great, explanation, of, why, evs...</td>\n",
       "      <td>Positive</td>\n",
       "      <td>[great, explanation, evs, efficient, energy, s...</td>\n",
       "      <td>None</td>\n",
       "    </tr>\n",
       "    <tr>\n",
       "      <th>3</th>\n",
       "      <td>[if, you, need, to, write, a, box, ticking, so...</td>\n",
       "      <td>Positive</td>\n",
       "      <td>[need, write, box, tick, social, media, post, ...</td>\n",
       "      <td>None</td>\n",
       "    </tr>\n",
       "    <tr>\n",
       "      <th>4</th>\n",
       "      <td>[just, saw, an, ai, tool, making, my, coffee, ...</td>\n",
       "      <td>Positive</td>\n",
       "      <td>[saw, ai, tool, make, coffee, chatgpt, ai, aim...</td>\n",
       "      <td>None</td>\n",
       "    </tr>\n",
       "    <tr>\n",
       "      <th>...</th>\n",
       "      <td>...</td>\n",
       "      <td>...</td>\n",
       "      <td>...</td>\n",
       "      <td>...</td>\n",
       "    </tr>\n",
       "    <tr>\n",
       "      <th>594</th>\n",
       "      <td>[gpt, s, ai, capabilities, are, also, more, ac...</td>\n",
       "      <td>Positive</td>\n",
       "      <td>[gpt, ai, capabilities, also, accessible, keyb...</td>\n",
       "      <td>None</td>\n",
       "    </tr>\n",
       "    <tr>\n",
       "      <th>595</th>\n",
       "      <td>[keyboardx, also, provides, a, more, secure, e...</td>\n",
       "      <td>Positive</td>\n",
       "      <td>[keyboardx, also, provide, secure, environment...</td>\n",
       "      <td>None</td>\n",
       "    </tr>\n",
       "    <tr>\n",
       "      <th>596</th>\n",
       "      <td>[keyboardx, allows, users, to, quickly, and, e...</td>\n",
       "      <td>Positive</td>\n",
       "      <td>[keyboardx, allow, users, quickly, easily, acc...</td>\n",
       "      <td>None</td>\n",
       "    </tr>\n",
       "    <tr>\n",
       "      <th>597</th>\n",
       "      <td>[i, asked, chatgpt, why, the, app, i, m, worki...</td>\n",
       "      <td>Positive</td>\n",
       "      <td>[ask, chatgpt, app, work, keyboardx, better, u...</td>\n",
       "      <td>None</td>\n",
       "    </tr>\n",
       "    <tr>\n",
       "      <th>598</th>\n",
       "      <td>[there, s, been, a, lot, of, talk, about, ai, ...</td>\n",
       "      <td>Positive</td>\n",
       "      <td>[lot, talk, ai, engines, may, may, use, newsro...</td>\n",
       "      <td>None</td>\n",
       "    </tr>\n",
       "  </tbody>\n",
       "</table>\n",
       "<p>599 rows × 4 columns</p>\n",
       "</div>"
      ],
      "text/plain": [
       "                                                Tweets     label  \\\n",
       "0    [asked, chatgpt, about, what, it, thinks, are,...  Positive   \n",
       "1    [chatgpt, tornado, has, already, traveled, aro...   Neutral   \n",
       "2    [this, is, a, great, explanation, of, why, evs...  Positive   \n",
       "3    [if, you, need, to, write, a, box, ticking, so...  Positive   \n",
       "4    [just, saw, an, ai, tool, making, my, coffee, ...  Positive   \n",
       "..                                                 ...       ...   \n",
       "594  [gpt, s, ai, capabilities, are, also, more, ac...  Positive   \n",
       "595  [keyboardx, also, provides, a, more, secure, e...  Positive   \n",
       "596  [keyboardx, allows, users, to, quickly, and, e...  Positive   \n",
       "597  [i, asked, chatgpt, why, the, app, i, m, worki...  Positive   \n",
       "598  [there, s, been, a, lot, of, talk, about, ai, ...  Positive   \n",
       "\n",
       "                                                   new preprocessed_tweets  \n",
       "0    [ask, chatgpt, think, problems, associate, urb...                None  \n",
       "1    [chatgpt, tornado, already, travel, around, wo...                None  \n",
       "2    [great, explanation, evs, efficient, energy, s...                None  \n",
       "3    [need, write, box, tick, social, media, post, ...                None  \n",
       "4    [saw, ai, tool, make, coffee, chatgpt, ai, aim...                None  \n",
       "..                                                 ...                 ...  \n",
       "594  [gpt, ai, capabilities, also, accessible, keyb...                None  \n",
       "595  [keyboardx, also, provide, secure, environment...                None  \n",
       "596  [keyboardx, allow, users, quickly, easily, acc...                None  \n",
       "597  [ask, chatgpt, app, work, keyboardx, better, u...                None  \n",
       "598  [lot, talk, ai, engines, may, may, use, newsro...                None  \n",
       "\n",
       "[599 rows x 4 columns]"
      ]
     },
     "execution_count": 25,
     "metadata": {},
     "output_type": "execute_result"
    }
   ],
   "source": [
    "train"
   ]
  },
  {
   "cell_type": "code",
   "execution_count": 26,
   "id": "a156c6c8",
   "metadata": {},
   "outputs": [],
   "source": [
    "for i in range(599):\n",
    "    tokens = train['new'][i]\n",
    "    preprocessed_tweet = ' '.join(tokens)\n",
    "    train['preprocessed_tweets'][i] = preprocessed_tweet"
   ]
  },
  {
   "cell_type": "code",
   "execution_count": 27,
   "id": "939ddaa8",
   "metadata": {},
   "outputs": [
    {
     "data": {
      "text/html": [
       "<div>\n",
       "<style scoped>\n",
       "    .dataframe tbody tr th:only-of-type {\n",
       "        vertical-align: middle;\n",
       "    }\n",
       "\n",
       "    .dataframe tbody tr th {\n",
       "        vertical-align: top;\n",
       "    }\n",
       "\n",
       "    .dataframe thead th {\n",
       "        text-align: right;\n",
       "    }\n",
       "</style>\n",
       "<table border=\"1\" class=\"dataframe\">\n",
       "  <thead>\n",
       "    <tr style=\"text-align: right;\">\n",
       "      <th></th>\n",
       "      <th>Tweets</th>\n",
       "      <th>label</th>\n",
       "      <th>new</th>\n",
       "      <th>preprocessed_tweets</th>\n",
       "    </tr>\n",
       "  </thead>\n",
       "  <tbody>\n",
       "    <tr>\n",
       "      <th>0</th>\n",
       "      <td>[asked, chatgpt, about, what, it, thinks, are,...</td>\n",
       "      <td>Positive</td>\n",
       "      <td>[ask, chatgpt, think, problems, associate, urb...</td>\n",
       "      <td>ask chatgpt think problems associate urbanisat...</td>\n",
       "    </tr>\n",
       "    <tr>\n",
       "      <th>1</th>\n",
       "      <td>[chatgpt, tornado, has, already, traveled, aro...</td>\n",
       "      <td>Neutral</td>\n",
       "      <td>[chatgpt, tornado, already, travel, around, wo...</td>\n",
       "      <td>chatgpt tornado already travel around world se...</td>\n",
       "    </tr>\n",
       "    <tr>\n",
       "      <th>2</th>\n",
       "      <td>[this, is, a, great, explanation, of, why, evs...</td>\n",
       "      <td>Positive</td>\n",
       "      <td>[great, explanation, evs, efficient, energy, s...</td>\n",
       "      <td>great explanation evs efficient energy source ...</td>\n",
       "    </tr>\n",
       "    <tr>\n",
       "      <th>3</th>\n",
       "      <td>[if, you, need, to, write, a, box, ticking, so...</td>\n",
       "      <td>Positive</td>\n",
       "      <td>[need, write, box, tick, social, media, post, ...</td>\n",
       "      <td>need write box tick social media post use esta...</td>\n",
       "    </tr>\n",
       "    <tr>\n",
       "      <th>4</th>\n",
       "      <td>[just, saw, an, ai, tool, making, my, coffee, ...</td>\n",
       "      <td>Positive</td>\n",
       "      <td>[saw, ai, tool, make, coffee, chatgpt, ai, aim...</td>\n",
       "      <td>saw ai tool make coffee chatgpt ai aimagic</td>\n",
       "    </tr>\n",
       "    <tr>\n",
       "      <th>...</th>\n",
       "      <td>...</td>\n",
       "      <td>...</td>\n",
       "      <td>...</td>\n",
       "      <td>...</td>\n",
       "    </tr>\n",
       "    <tr>\n",
       "      <th>594</th>\n",
       "      <td>[gpt, s, ai, capabilities, are, also, more, ac...</td>\n",
       "      <td>Positive</td>\n",
       "      <td>[gpt, ai, capabilities, also, accessible, keyb...</td>\n",
       "      <td>gpt ai capabilities also accessible keyboardx ...</td>\n",
       "    </tr>\n",
       "    <tr>\n",
       "      <th>595</th>\n",
       "      <td>[keyboardx, also, provides, a, more, secure, e...</td>\n",
       "      <td>Positive</td>\n",
       "      <td>[keyboardx, also, provide, secure, environment...</td>\n",
       "      <td>keyboardx also provide secure environment gpt ...</td>\n",
       "    </tr>\n",
       "    <tr>\n",
       "      <th>596</th>\n",
       "      <td>[keyboardx, allows, users, to, quickly, and, e...</td>\n",
       "      <td>Positive</td>\n",
       "      <td>[keyboardx, allow, users, quickly, easily, acc...</td>\n",
       "      <td>keyboardx allow users quickly easily access gp...</td>\n",
       "    </tr>\n",
       "    <tr>\n",
       "      <th>597</th>\n",
       "      <td>[i, asked, chatgpt, why, the, app, i, m, worki...</td>\n",
       "      <td>Positive</td>\n",
       "      <td>[ask, chatgpt, app, work, keyboardx, better, u...</td>\n",
       "      <td>ask chatgpt app work keyboardx better use gpt ...</td>\n",
       "    </tr>\n",
       "    <tr>\n",
       "      <th>598</th>\n",
       "      <td>[there, s, been, a, lot, of, talk, about, ai, ...</td>\n",
       "      <td>Positive</td>\n",
       "      <td>[lot, talk, ai, engines, may, may, use, newsro...</td>\n",
       "      <td>lot talk ai engines may may use newsrooms news...</td>\n",
       "    </tr>\n",
       "  </tbody>\n",
       "</table>\n",
       "<p>599 rows × 4 columns</p>\n",
       "</div>"
      ],
      "text/plain": [
       "                                                Tweets     label  \\\n",
       "0    [asked, chatgpt, about, what, it, thinks, are,...  Positive   \n",
       "1    [chatgpt, tornado, has, already, traveled, aro...   Neutral   \n",
       "2    [this, is, a, great, explanation, of, why, evs...  Positive   \n",
       "3    [if, you, need, to, write, a, box, ticking, so...  Positive   \n",
       "4    [just, saw, an, ai, tool, making, my, coffee, ...  Positive   \n",
       "..                                                 ...       ...   \n",
       "594  [gpt, s, ai, capabilities, are, also, more, ac...  Positive   \n",
       "595  [keyboardx, also, provides, a, more, secure, e...  Positive   \n",
       "596  [keyboardx, allows, users, to, quickly, and, e...  Positive   \n",
       "597  [i, asked, chatgpt, why, the, app, i, m, worki...  Positive   \n",
       "598  [there, s, been, a, lot, of, talk, about, ai, ...  Positive   \n",
       "\n",
       "                                                   new  \\\n",
       "0    [ask, chatgpt, think, problems, associate, urb...   \n",
       "1    [chatgpt, tornado, already, travel, around, wo...   \n",
       "2    [great, explanation, evs, efficient, energy, s...   \n",
       "3    [need, write, box, tick, social, media, post, ...   \n",
       "4    [saw, ai, tool, make, coffee, chatgpt, ai, aim...   \n",
       "..                                                 ...   \n",
       "594  [gpt, ai, capabilities, also, accessible, keyb...   \n",
       "595  [keyboardx, also, provide, secure, environment...   \n",
       "596  [keyboardx, allow, users, quickly, easily, acc...   \n",
       "597  [ask, chatgpt, app, work, keyboardx, better, u...   \n",
       "598  [lot, talk, ai, engines, may, may, use, newsro...   \n",
       "\n",
       "                                   preprocessed_tweets  \n",
       "0    ask chatgpt think problems associate urbanisat...  \n",
       "1    chatgpt tornado already travel around world se...  \n",
       "2    great explanation evs efficient energy source ...  \n",
       "3    need write box tick social media post use esta...  \n",
       "4           saw ai tool make coffee chatgpt ai aimagic  \n",
       "..                                                 ...  \n",
       "594  gpt ai capabilities also accessible keyboardx ...  \n",
       "595  keyboardx also provide secure environment gpt ...  \n",
       "596  keyboardx allow users quickly easily access gp...  \n",
       "597  ask chatgpt app work keyboardx better use gpt ...  \n",
       "598  lot talk ai engines may may use newsrooms news...  \n",
       "\n",
       "[599 rows x 4 columns]"
      ]
     },
     "execution_count": 27,
     "metadata": {},
     "output_type": "execute_result"
    }
   ],
   "source": [
    "train"
   ]
  },
  {
   "cell_type": "markdown",
   "id": "9cb670bb",
   "metadata": {},
   "source": [
    "# Vectorising"
   ]
  },
  {
   "cell_type": "code",
   "execution_count": 28,
   "id": "41a7b81e",
   "metadata": {},
   "outputs": [],
   "source": [
    "from sklearn.feature_extraction.text import TfidfVectorizer"
   ]
  },
  {
   "cell_type": "code",
   "execution_count": 29,
   "id": "4eeea5c6",
   "metadata": {},
   "outputs": [],
   "source": [
    "tfidf = TfidfVectorizer(max_features=5000,ngram_range=(1,3))"
   ]
  },
  {
   "cell_type": "code",
   "execution_count": 30,
   "id": "43578dfa",
   "metadata": {},
   "outputs": [],
   "source": [
    "preprocessed_tweets = []\n",
    "for i in range(599):\n",
    "    preprocessed_tweet = ' '.join(train['new'][i])\n",
    "    preprocessed_tweets.append(preprocessed_tweet)"
   ]
  },
  {
   "cell_type": "code",
   "execution_count": 31,
   "id": "0ba70780",
   "metadata": {},
   "outputs": [
    {
     "data": {
      "text/plain": [
       "array([[0., 0., 0., ..., 0., 0., 0.],\n",
       "       [0., 0., 0., ..., 0., 0., 0.],\n",
       "       [0., 0., 0., ..., 0., 0., 0.],\n",
       "       ...,\n",
       "       [0., 0., 0., ..., 0., 0., 0.],\n",
       "       [0., 0., 0., ..., 0., 0., 0.],\n",
       "       [0., 0., 0., ..., 0., 0., 0.]])"
      ]
     },
     "execution_count": 31,
     "metadata": {},
     "output_type": "execute_result"
    }
   ],
   "source": [
    "x = tfidf.fit_transform(preprocessed_tweets).toarray()\n",
    "x"
   ]
  },
  {
   "cell_type": "code",
   "execution_count": 32,
   "id": "d02d7219",
   "metadata": {},
   "outputs": [
    {
     "data": {
      "text/plain": [
       "(599, 5000)"
      ]
     },
     "execution_count": 32,
     "metadata": {},
     "output_type": "execute_result"
    }
   ],
   "source": [
    "x.shape"
   ]
  },
  {
   "cell_type": "code",
   "execution_count": 33,
   "id": "8475d3bd",
   "metadata": {},
   "outputs": [],
   "source": [
    "from sklearn.preprocessing import LabelEncoder\n",
    "encoder=LabelEncoder()"
   ]
  },
  {
   "cell_type": "code",
   "execution_count": 34,
   "id": "47d9e7a0",
   "metadata": {},
   "outputs": [],
   "source": [
    "train['label'] = encoder.fit_transform(train['label'])"
   ]
  },
  {
   "cell_type": "code",
   "execution_count": 35,
   "id": "2f9ecb0d",
   "metadata": {},
   "outputs": [
    {
     "data": {
      "text/html": [
       "<div>\n",
       "<style scoped>\n",
       "    .dataframe tbody tr th:only-of-type {\n",
       "        vertical-align: middle;\n",
       "    }\n",
       "\n",
       "    .dataframe tbody tr th {\n",
       "        vertical-align: top;\n",
       "    }\n",
       "\n",
       "    .dataframe thead th {\n",
       "        text-align: right;\n",
       "    }\n",
       "</style>\n",
       "<table border=\"1\" class=\"dataframe\">\n",
       "  <thead>\n",
       "    <tr style=\"text-align: right;\">\n",
       "      <th></th>\n",
       "      <th>Tweets</th>\n",
       "      <th>label</th>\n",
       "      <th>new</th>\n",
       "      <th>preprocessed_tweets</th>\n",
       "    </tr>\n",
       "  </thead>\n",
       "  <tbody>\n",
       "    <tr>\n",
       "      <th>0</th>\n",
       "      <td>[asked, chatgpt, about, what, it, thinks, are,...</td>\n",
       "      <td>2</td>\n",
       "      <td>[ask, chatgpt, think, problems, associate, urb...</td>\n",
       "      <td>ask chatgpt think problems associate urbanisat...</td>\n",
       "    </tr>\n",
       "    <tr>\n",
       "      <th>1</th>\n",
       "      <td>[chatgpt, tornado, has, already, traveled, aro...</td>\n",
       "      <td>1</td>\n",
       "      <td>[chatgpt, tornado, already, travel, around, wo...</td>\n",
       "      <td>chatgpt tornado already travel around world se...</td>\n",
       "    </tr>\n",
       "    <tr>\n",
       "      <th>2</th>\n",
       "      <td>[this, is, a, great, explanation, of, why, evs...</td>\n",
       "      <td>2</td>\n",
       "      <td>[great, explanation, evs, efficient, energy, s...</td>\n",
       "      <td>great explanation evs efficient energy source ...</td>\n",
       "    </tr>\n",
       "    <tr>\n",
       "      <th>3</th>\n",
       "      <td>[if, you, need, to, write, a, box, ticking, so...</td>\n",
       "      <td>2</td>\n",
       "      <td>[need, write, box, tick, social, media, post, ...</td>\n",
       "      <td>need write box tick social media post use esta...</td>\n",
       "    </tr>\n",
       "    <tr>\n",
       "      <th>4</th>\n",
       "      <td>[just, saw, an, ai, tool, making, my, coffee, ...</td>\n",
       "      <td>2</td>\n",
       "      <td>[saw, ai, tool, make, coffee, chatgpt, ai, aim...</td>\n",
       "      <td>saw ai tool make coffee chatgpt ai aimagic</td>\n",
       "    </tr>\n",
       "    <tr>\n",
       "      <th>...</th>\n",
       "      <td>...</td>\n",
       "      <td>...</td>\n",
       "      <td>...</td>\n",
       "      <td>...</td>\n",
       "    </tr>\n",
       "    <tr>\n",
       "      <th>594</th>\n",
       "      <td>[gpt, s, ai, capabilities, are, also, more, ac...</td>\n",
       "      <td>2</td>\n",
       "      <td>[gpt, ai, capabilities, also, accessible, keyb...</td>\n",
       "      <td>gpt ai capabilities also accessible keyboardx ...</td>\n",
       "    </tr>\n",
       "    <tr>\n",
       "      <th>595</th>\n",
       "      <td>[keyboardx, also, provides, a, more, secure, e...</td>\n",
       "      <td>2</td>\n",
       "      <td>[keyboardx, also, provide, secure, environment...</td>\n",
       "      <td>keyboardx also provide secure environment gpt ...</td>\n",
       "    </tr>\n",
       "    <tr>\n",
       "      <th>596</th>\n",
       "      <td>[keyboardx, allows, users, to, quickly, and, e...</td>\n",
       "      <td>2</td>\n",
       "      <td>[keyboardx, allow, users, quickly, easily, acc...</td>\n",
       "      <td>keyboardx allow users quickly easily access gp...</td>\n",
       "    </tr>\n",
       "    <tr>\n",
       "      <th>597</th>\n",
       "      <td>[i, asked, chatgpt, why, the, app, i, m, worki...</td>\n",
       "      <td>2</td>\n",
       "      <td>[ask, chatgpt, app, work, keyboardx, better, u...</td>\n",
       "      <td>ask chatgpt app work keyboardx better use gpt ...</td>\n",
       "    </tr>\n",
       "    <tr>\n",
       "      <th>598</th>\n",
       "      <td>[there, s, been, a, lot, of, talk, about, ai, ...</td>\n",
       "      <td>2</td>\n",
       "      <td>[lot, talk, ai, engines, may, may, use, newsro...</td>\n",
       "      <td>lot talk ai engines may may use newsrooms news...</td>\n",
       "    </tr>\n",
       "  </tbody>\n",
       "</table>\n",
       "<p>599 rows × 4 columns</p>\n",
       "</div>"
      ],
      "text/plain": [
       "                                                Tweets  label  \\\n",
       "0    [asked, chatgpt, about, what, it, thinks, are,...      2   \n",
       "1    [chatgpt, tornado, has, already, traveled, aro...      1   \n",
       "2    [this, is, a, great, explanation, of, why, evs...      2   \n",
       "3    [if, you, need, to, write, a, box, ticking, so...      2   \n",
       "4    [just, saw, an, ai, tool, making, my, coffee, ...      2   \n",
       "..                                                 ...    ...   \n",
       "594  [gpt, s, ai, capabilities, are, also, more, ac...      2   \n",
       "595  [keyboardx, also, provides, a, more, secure, e...      2   \n",
       "596  [keyboardx, allows, users, to, quickly, and, e...      2   \n",
       "597  [i, asked, chatgpt, why, the, app, i, m, worki...      2   \n",
       "598  [there, s, been, a, lot, of, talk, about, ai, ...      2   \n",
       "\n",
       "                                                   new  \\\n",
       "0    [ask, chatgpt, think, problems, associate, urb...   \n",
       "1    [chatgpt, tornado, already, travel, around, wo...   \n",
       "2    [great, explanation, evs, efficient, energy, s...   \n",
       "3    [need, write, box, tick, social, media, post, ...   \n",
       "4    [saw, ai, tool, make, coffee, chatgpt, ai, aim...   \n",
       "..                                                 ...   \n",
       "594  [gpt, ai, capabilities, also, accessible, keyb...   \n",
       "595  [keyboardx, also, provide, secure, environment...   \n",
       "596  [keyboardx, allow, users, quickly, easily, acc...   \n",
       "597  [ask, chatgpt, app, work, keyboardx, better, u...   \n",
       "598  [lot, talk, ai, engines, may, may, use, newsro...   \n",
       "\n",
       "                                   preprocessed_tweets  \n",
       "0    ask chatgpt think problems associate urbanisat...  \n",
       "1    chatgpt tornado already travel around world se...  \n",
       "2    great explanation evs efficient energy source ...  \n",
       "3    need write box tick social media post use esta...  \n",
       "4           saw ai tool make coffee chatgpt ai aimagic  \n",
       "..                                                 ...  \n",
       "594  gpt ai capabilities also accessible keyboardx ...  \n",
       "595  keyboardx also provide secure environment gpt ...  \n",
       "596  keyboardx allow users quickly easily access gp...  \n",
       "597  ask chatgpt app work keyboardx better use gpt ...  \n",
       "598  lot talk ai engines may may use newsrooms news...  \n",
       "\n",
       "[599 rows x 4 columns]"
      ]
     },
     "execution_count": 35,
     "metadata": {},
     "output_type": "execute_result"
    }
   ],
   "source": [
    "train"
   ]
  },
  {
   "cell_type": "code",
   "execution_count": 36,
   "id": "90982229",
   "metadata": {},
   "outputs": [
    {
     "data": {
      "text/plain": [
       "array([2, 1, 2, 2, 2, 0, 2, 2, 2, 0, 1, 2, 0, 0, 0, 1, 0, 2, 1, 2, 2, 1,\n",
       "       2, 2, 2, 2, 2, 2, 2, 2, 1, 0, 1, 1, 2, 0, 2, 2, 2, 2, 2, 2, 2, 1,\n",
       "       1, 0, 2, 0, 2, 1, 0, 1, 0, 1, 0, 2, 0, 2, 2, 1, 1, 0, 2, 2, 0, 1,\n",
       "       0, 2, 0, 1, 2, 2, 0, 1, 0, 0, 2, 2, 1, 2, 2, 0, 2, 2, 2, 2, 2, 0,\n",
       "       2, 2, 0, 0, 2, 0, 2, 0, 2, 1, 2, 0, 2, 1, 0, 0, 0, 2, 2, 0, 1, 0,\n",
       "       2, 2, 2, 0, 0, 0, 1, 2, 0, 1, 0, 2, 0, 0, 2, 0, 2, 1, 1, 2, 0, 2,\n",
       "       1, 1, 2, 0, 2, 2, 2, 2, 2, 0, 2, 2, 2, 2, 2, 0, 0, 2, 2, 2, 2, 2,\n",
       "       0, 2, 0, 0, 2, 0, 2, 2, 0, 0, 1, 2, 1, 2, 2, 0, 1, 2, 2, 2, 1, 0,\n",
       "       2, 2, 0, 2, 2, 0, 0, 2, 2, 1, 2, 2, 0, 2, 0, 2, 0, 2, 2, 2, 2, 2,\n",
       "       2, 2, 2, 2, 0, 2, 0, 2, 2, 1, 0, 2, 0, 2, 2, 0, 0, 2, 2, 2, 2, 2,\n",
       "       2, 2, 2, 2, 2, 2, 2, 0, 2, 2, 0, 1, 0, 2, 2, 0, 0, 2, 2, 2, 0, 0,\n",
       "       2, 2, 2, 2, 1, 0, 2, 2, 0, 2, 0, 2, 1, 2, 2, 2, 2, 2, 2, 2, 2, 1,\n",
       "       0, 2, 2, 2, 0, 2, 2, 2, 2, 2, 2, 2, 2, 2, 2, 2, 2, 2, 2, 2, 2, 1,\n",
       "       2, 2, 1, 2, 2, 2, 2, 0, 2, 2, 0, 0, 2, 0, 2, 2, 2, 2, 2, 2, 2, 2,\n",
       "       2, 2, 2, 2, 2, 0, 2, 0, 2, 2, 2, 2, 2, 0, 2, 2, 2, 2, 2, 2, 0, 2,\n",
       "       1, 2, 2, 2, 0, 1, 0, 0, 2, 2, 1, 1, 2, 1, 2, 2, 2, 2, 2, 2, 2, 2,\n",
       "       2, 2, 2, 0, 0, 2, 0, 2, 0, 2, 0, 2, 0, 2, 0, 0, 0, 0, 2, 0, 2, 2,\n",
       "       0, 1, 2, 2, 2, 2, 1, 0, 0, 2, 2, 2, 2, 2, 2, 2, 2, 0, 2, 2, 2, 2,\n",
       "       2, 1, 2, 2, 2, 2, 2, 2, 1, 2, 2, 1, 0, 2, 2, 2, 2, 0, 1, 0, 2, 1,\n",
       "       2, 2, 2, 0, 2, 2, 2, 2, 1, 0, 2, 0, 2, 1, 2, 2, 1, 2, 0, 1, 2, 0,\n",
       "       2, 2, 2, 2, 2, 2, 2, 2, 2, 2, 1, 2, 0, 0, 0, 2, 0, 2, 2, 0, 0, 0,\n",
       "       2, 2, 2, 2, 2, 0, 2, 2, 2, 1, 2, 2, 2, 2, 2, 0, 2, 0, 2, 0, 2, 2,\n",
       "       2, 2, 2, 2, 2, 1, 0, 2, 0, 2, 0, 1, 2, 2, 0, 2, 0, 2, 1, 0, 2, 2,\n",
       "       2, 1, 2, 2, 0, 2, 2, 2, 1, 1, 2, 1, 1, 2, 1, 1, 2, 1, 2, 0, 1, 2,\n",
       "       2, 2, 2, 2, 2, 1, 2, 2, 2, 2, 1, 1, 2, 2, 2, 2, 0, 2, 2, 2, 2, 2,\n",
       "       2, 2, 0, 0, 1, 0, 2, 2, 0, 2, 1, 2, 2, 2, 2, 2, 2, 2, 0, 0, 1, 0,\n",
       "       2, 0, 2, 2, 1, 2, 2, 2, 2, 2, 2, 2, 2, 2, 2, 2, 0, 2, 0, 0, 2, 1,\n",
       "       2, 2, 2, 2, 2])"
      ]
     },
     "execution_count": 36,
     "metadata": {},
     "output_type": "execute_result"
    }
   ],
   "source": [
    "y=train['label'].values\n",
    "y"
   ]
  },
  {
   "cell_type": "code",
   "execution_count": null,
   "id": "3f8f676f",
   "metadata": {},
   "outputs": [],
   "source": [
    "from tensorflow.keras.preprocessing.text import Tokenizer\n",
    "tokenizer = Tokenizer()\n",
    "tokenizer.fit_on_texts(preprocessed_tweets)\n",
    "vocab_size = len(tokenizer.word_index) + 1 \n",
    "print(\"Vocabulary size:\", vocab_size)"
   ]
  },
  {
   "cell_type": "markdown",
   "id": "71e4446e",
   "metadata": {},
   "source": [
    "# lstm model"
   ]
  },
  {
   "cell_type": "code",
   "execution_count": 37,
   "id": "7c52f239",
   "metadata": {},
   "outputs": [],
   "source": [
    "model = Sequential([\n",
    "    Embedding(input_dim=3014, output_dim=50, input_length=5000),\n",
    "    LSTM(units=100),\n",
    "    Dense(3, activation='softmax')  # Assuming 3 classes (0, 1, 2)\n",
    "])"
   ]
  },
  {
   "cell_type": "code",
   "execution_count": 38,
   "id": "732c92e4",
   "metadata": {},
   "outputs": [
    {
     "name": "stdout",
     "output_type": "stream",
     "text": [
      "Model: \"sequential\"\n",
      "_________________________________________________________________\n",
      " Layer (type)                Output Shape              Param #   \n",
      "=================================================================\n",
      " embedding (Embedding)       (None, 5000, 50)          150700    \n",
      "                                                                 \n",
      " lstm (LSTM)                 (None, 100)               60400     \n",
      "                                                                 \n",
      " dense (Dense)               (None, 3)                 303       \n",
      "                                                                 \n",
      "=================================================================\n",
      "Total params: 211403 (825.79 KB)\n",
      "Trainable params: 211403 (825.79 KB)\n",
      "Non-trainable params: 0 (0.00 Byte)\n",
      "_________________________________________________________________\n",
      "None\n"
     ]
    }
   ],
   "source": [
    "model.compile(loss='sparse_categorical_crossentropy', optimizer='adam', metrics=['accuracy'])\n",
    "print(model.summary())"
   ]
  },
  {
   "cell_type": "code",
   "execution_count": 39,
   "id": "605ee74a",
   "metadata": {},
   "outputs": [],
   "source": [
    "from sklearn.model_selection import train_test_split\n",
    "\n",
    "X_train, X_test, y_train, y_test = train_test_split(x, y, test_size=0.2, random_state=42)"
   ]
  },
  {
   "cell_type": "code",
   "execution_count": 40,
   "id": "837b5f65",
   "metadata": {},
   "outputs": [
    {
     "name": "stdout",
     "output_type": "stream",
     "text": [
      "8/8 [==============================] - 439s 55s/step - loss: 1.0538 - accuracy: 0.5344\n"
     ]
    },
    {
     "data": {
      "text/plain": [
       "<keras.src.callbacks.History at 0x1d5470d6af0>"
      ]
     },
     "execution_count": 40,
     "metadata": {},
     "output_type": "execute_result"
    }
   ],
   "source": [
    "model.fit(X_train, y_train, epochs=1, batch_size=64)"
   ]
  }
 ],
 "metadata": {
  "kernelspec": {
   "display_name": "Python 3 (ipykernel)",
   "language": "python",
   "name": "python3"
  },
  "language_info": {
   "codemirror_mode": {
    "name": "ipython",
    "version": 3
   },
   "file_extension": ".py",
   "mimetype": "text/x-python",
   "name": "python",
   "nbconvert_exporter": "python",
   "pygments_lexer": "ipython3",
   "version": "3.9.13"
  }
 },
 "nbformat": 4,
 "nbformat_minor": 5
}
